{
 "cells": [
  {
   "cell_type": "code",
   "execution_count": null,
   "id": "8bc4beeb",
   "metadata": {},
   "outputs": [],
   "source": [
    "import pandas as pd\n",
    "import nltk\n",
    "from sklearn.model_selection import train_test_split\n",
    "from sklearn.feature_extraction.text import TfidfVectorizer\n",
    "from sklearn.linear_model import LogisticRegression\n",
    "from sklearn.metrics import accuracy_score, classification_report, confusion_matrix\n"
   ]
  },
  {
   "cell_type": "code",
   "execution_count": null,
   "id": "c79e6843",
   "metadata": {},
   "outputs": [],
   "source": [
    "nltk.download('punkt')\n",
    "nltk.download('stopwords')"
   ]
  },
  {
   "cell_type": "code",
   "execution_count": null,
   "id": "25ec671d",
   "metadata": {},
   "outputs": [],
   "source": [
    "fake=pd.read_csv('../data/Fake.csv')\n",
    "real=pd.read_csv('../data/True.csv')"
   ]
  },
  {
   "cell_type": "code",
   "execution_count": null,
   "id": "6118beaf",
   "metadata": {},
   "outputs": [],
   "source": [
    "fake['label']='fake'\n",
    "real['label']='real'\n",
    "\n",
    "df = pd.concat([fake, real]).sample(frac=1).reset_index(drop=True)"
   ]
  },
  {
   "cell_type": "code",
   "execution_count": null,
   "id": "4f0333ea",
   "metadata": {},
   "outputs": [],
   "source": [
    "df.count()\n"
   ]
  },
  {
   "cell_type": "code",
   "execution_count": null,
   "id": "a5f63ad3",
   "metadata": {},
   "outputs": [],
   "source": [
    "import re\n",
    "import spacy\n",
    "from nltk.corpus import stopwords\n",
    "import string"
   ]
  },
  {
   "cell_type": "code",
   "execution_count": null,
   "id": "21f214c4",
   "metadata": {},
   "outputs": [],
   "source": [
    "# Load spacy model\n",
    "nlp = spacy.load('en_core_web_sm')\n",
    "\n",
    "def preprocess_text(text):\n",
    "    # Lowercase\n",
    "    text = text.lower()\n",
    "    # Remove URLs\n",
    "    text = re.sub(r'http\\S+|www\\S+', '', text)\n",
    "    # Remove HTML tags\n",
    "    text = re.sub(r'<.*?>', '', text)\n",
    "    # Remove punctuation\n",
    "    text = text.translate(str.maketrans('', '', string.punctuation))\n",
    "    # Remove non-alphabetic characters (keep spaces)\n",
    "    text = re.sub(r'[^a-zA-Z ]', '', text)\n",
    "    # Remove extra spaces\n",
    "    text = re.sub(r'\\s+', ' ', text).strip()\n",
    "    # Remove stopwords using nltk\n",
    "    stop_words = set(stopwords.words('english'))\n",
    "    text = ' '.join([word for word in text.split() if word not in stop_words])\n",
    "    # Lemmatization using spacy\n",
    "    doc = nlp(text)\n",
    "    text = ' '.join([token.lemma_ for token in doc])\n",
    "    return text\n"
   ]
  },
  {
   "cell_type": "code",
   "execution_count": null,
   "id": "31dc3234",
   "metadata": {},
   "outputs": [],
   "source": [
    "# Run preprocessing on all samples\n",
    "df['processed_title'] = df['title'].apply(preprocess_text)\n",
    "df['processed_text'] = df['text'].apply(preprocess_text)\n",
    "df['processed_subject'] = df['subject'].apply(preprocess_text)\n",
    "df['processed_date'] = df['date'].astype(str).apply(preprocess_text)\n",
    "\n",
    "processed_df = df[['processed_title', 'processed_text', 'processed_subject', 'processed_date', 'label']]\n",
    "\n",
    "processed_df.head()"
   ]
  },
  {
   "cell_type": "code",
   "execution_count": null,
   "id": "5aee31b1",
   "metadata": {},
   "outputs": [],
   "source": [
    "from nltk.tokenize import word_tokenize\n",
    "\n",
    "# Tokenize processed columns in the sample dataframe\n",
    "processed_df['tokens_title'] = processed_df['processed_title'].apply(word_tokenize)\n",
    "processed_df['tokens_text'] = processed_df['processed_text'].apply(word_tokenize)\n",
    "processed_df['tokens_subject'] = processed_df['processed_subject'].apply(word_tokenize)\n",
    "processed_df['tokens_date'] = processed_df['processed_date'].apply(word_tokenize)\n",
    "\n",
    "# Display tokenized sample\n",
    "processed_df[['tokens_title', 'tokens_text', 'tokens_subject', 'tokens_date', 'label']].head()"
   ]
  },
  {
   "cell_type": "code",
   "execution_count": null,
   "id": "9008f5aa",
   "metadata": {},
   "outputs": [],
   "source": [
    "import pickle\n",
    "\n",
    "# Join tokens back to string for vectorization\n",
    "processed_df['text_for_vectorizer'] = processed_df['tokens_text'].apply(lambda tokens: ' '.join(tokens))\n",
    "\n",
    "# Vectorize the text\n",
    "vectorizer = TfidfVectorizer()\n",
    "X = vectorizer.fit_transform(processed_df['text_for_vectorizer'])\n",
    "y = processed_df['label'].map({'fake': 0, 'real': 1})  # Encode labels\n",
    "\n",
    "# Train/test split\n",
    "X_train, X_test, y_train, y_test = train_test_split(X, y, test_size=0.2, random_state=42)\n",
    "\n",
    "# Train Logistic Regression model\n",
    "model = LogisticRegression(class_weight='balanced',max_iter=1000)\n",
    "model.fit(X_train, y_train)\n",
    "\n",
    "# Save vectorizer and model to disk\n",
    "with open('../model/vectorizer.pkl', 'wb') as f:\n",
    "    pickle.dump(vectorizer, f)\n",
    "\n",
    "with open('../model/model.pkl', 'wb') as f:\n",
    "    pickle.dump(model, f)\n",
    "\n",
    "# Evaluate model\n",
    "score = model.score(X_test, y_test)\n",
    "print(f\"Test Accuracy: {score:.4f}\")"
   ]
  },
  {
   "cell_type": "code",
   "execution_count": null,
   "id": "1613232a",
   "metadata": {},
   "outputs": [],
   "source": []
  }
 ],
 "metadata": {
  "kernelspec": {
   "display_name": ".venv",
   "language": "python",
   "name": "python3"
  },
  "language_info": {
   "codemirror_mode": {
    "name": "ipython",
    "version": 3
   },
   "file_extension": ".py",
   "mimetype": "text/x-python",
   "name": "python",
   "nbconvert_exporter": "python",
   "pygments_lexer": "ipython3",
   "version": "3.13.1"
  }
 },
 "nbformat": 4,
 "nbformat_minor": 5
}
