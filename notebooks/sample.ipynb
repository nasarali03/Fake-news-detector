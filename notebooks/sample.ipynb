{
 "cells": [
  {
   "cell_type": "code",
   "execution_count": 1,
   "id": "04c4458f",
   "metadata": {},
   "outputs": [],
   "source": [
    "import pandas as pd\n",
    "import nltk\n",
    "from sklearn.model_selection import train_test_split\n",
    "from sklearn.feature_extraction.text import TfidfVectorizer\n",
    "from sklearn.linear_model import LogisticRegression\n",
    "from sklearn.metrics import accuracy_score, classification_report, confusion_matrix\n"
   ]
  },
  {
   "cell_type": "code",
   "execution_count": 2,
   "id": "3ee02c10",
   "metadata": {},
   "outputs": [
    {
     "name": "stderr",
     "output_type": "stream",
     "text": [
      "[nltk_data] Downloading package punkt to\n",
      "[nltk_data]     C:\\Users\\HP\\AppData\\Roaming\\nltk_data...\n",
      "[nltk_data]   Package punkt is already up-to-date!\n",
      "[nltk_data] Downloading package stopwords to\n",
      "[nltk_data]     C:\\Users\\HP\\AppData\\Roaming\\nltk_data...\n",
      "[nltk_data]   Package stopwords is already up-to-date!\n",
      "[nltk_data] Downloading package punkt_tab to\n",
      "[nltk_data]     C:\\Users\\HP\\AppData\\Roaming\\nltk_data...\n",
      "[nltk_data]   Package punkt_tab is already up-to-date!\n"
     ]
    },
    {
     "data": {
      "text/plain": [
       "True"
      ]
     },
     "execution_count": 2,
     "metadata": {},
     "output_type": "execute_result"
    }
   ],
   "source": [
    "nltk.download('punkt')\n",
    "nltk.download('stopwords')\n",
    "nltk.download('punkt_tab')"
   ]
  },
  {
   "cell_type": "code",
   "execution_count": 5,
   "id": "451f19c7",
   "metadata": {},
   "outputs": [],
   "source": [
    "fake=pd.read_csv('../data/Fake.csv')\n",
    "real=pd.read_csv('../data/True.csv')"
   ]
  },
  {
   "cell_type": "code",
   "execution_count": 6,
   "id": "6050d013",
   "metadata": {},
   "outputs": [],
   "source": [
    "fake['label']='fake'\n",
    "real['label']='real'\n",
    "\n",
    "df = pd.concat([fake, real]).sample(frac=1).reset_index(drop=True)"
   ]
  },
  {
   "cell_type": "code",
   "execution_count": 7,
   "id": "fb080078",
   "metadata": {},
   "outputs": [
    {
     "name": "stdout",
     "output_type": "stream",
     "text": [
      "<class 'pandas.core.frame.DataFrame'>\n",
      "RangeIndex: 44898 entries, 0 to 44897\n",
      "Data columns (total 5 columns):\n",
      " #   Column   Non-Null Count  Dtype \n",
      "---  ------   --------------  ----- \n",
      " 0   title    44898 non-null  object\n",
      " 1   text     44898 non-null  object\n",
      " 2   subject  44898 non-null  object\n",
      " 3   date     44898 non-null  object\n",
      " 4   label    44898 non-null  object\n",
      "dtypes: object(5)\n",
      "memory usage: 1.7+ MB\n"
     ]
    }
   ],
   "source": [
    "df.info()"
   ]
  },
  {
   "cell_type": "code",
   "execution_count": 8,
   "id": "68ce11b0",
   "metadata": {},
   "outputs": [],
   "source": [
    "import re\n",
    "import spacy\n",
    "from nltk.corpus import stopwords\n",
    "import string"
   ]
  },
  {
   "cell_type": "code",
   "execution_count": 9,
   "id": "af98d603",
   "metadata": {},
   "outputs": [],
   "source": [
    "# Load spacy model\n",
    "nlp = spacy.load('en_core_web_sm')\n",
    "\n",
    "def preprocess_text(text):\n",
    "    # Lowercase\n",
    "    text = text.lower()\n",
    "    # Remove URLs\n",
    "    text = re.sub(r'http\\S+|www\\S+', '', text)\n",
    "    # Remove HTML tags\n",
    "    text = re.sub(r'<.*?>', '', text)\n",
    "    # Remove punctuation\n",
    "    text = text.translate(str.maketrans('', '', string.punctuation))\n",
    "    # Remove non-alphabetic characters (keep spaces)\n",
    "    text = re.sub(r'[^a-zA-Z ]', '', text)\n",
    "    # Remove extra spaces\n",
    "    text = re.sub(r'\\s+', ' ', text).strip()\n",
    "    # Remove stopwords using nltk\n",
    "    stop_words = set(stopwords.words('english'))\n",
    "    text = ' '.join([word for word in text.split() if word not in stop_words])\n",
    "    # Lemmatization using spacy\n",
    "    doc = nlp(text)\n",
    "    text = ' '.join([token.lemma_ for token in doc])\n",
    "    return text\n"
   ]
  },
  {
   "cell_type": "code",
   "execution_count": 10,
   "id": "3306f01b",
   "metadata": {},
   "outputs": [
    {
     "name": "stderr",
     "output_type": "stream",
     "text": [
      "C:\\Users\\HP\\AppData\\Local\\Temp\\ipykernel_30528\\2982048536.py:3: SettingWithCopyWarning: \n",
      "A value is trying to be set on a copy of a slice from a DataFrame.\n",
      "Try using .loc[row_indexer,col_indexer] = value instead\n",
      "\n",
      "See the caveats in the documentation: https://pandas.pydata.org/pandas-docs/stable/user_guide/indexing.html#returning-a-view-versus-a-copy\n",
      "  df_sample['processed_title'] = df_sample['title'].apply(preprocess_text)\n",
      "C:\\Users\\HP\\AppData\\Local\\Temp\\ipykernel_30528\\2982048536.py:4: SettingWithCopyWarning: \n",
      "A value is trying to be set on a copy of a slice from a DataFrame.\n",
      "Try using .loc[row_indexer,col_indexer] = value instead\n",
      "\n",
      "See the caveats in the documentation: https://pandas.pydata.org/pandas-docs/stable/user_guide/indexing.html#returning-a-view-versus-a-copy\n",
      "  df_sample['processed_text'] = df_sample['text'].apply(preprocess_text)\n",
      "C:\\Users\\HP\\AppData\\Local\\Temp\\ipykernel_30528\\2982048536.py:5: SettingWithCopyWarning: \n",
      "A value is trying to be set on a copy of a slice from a DataFrame.\n",
      "Try using .loc[row_indexer,col_indexer] = value instead\n",
      "\n",
      "See the caveats in the documentation: https://pandas.pydata.org/pandas-docs/stable/user_guide/indexing.html#returning-a-view-versus-a-copy\n",
      "  df_sample['processed_subject'] = df_sample['subject'].apply(preprocess_text)\n",
      "C:\\Users\\HP\\AppData\\Local\\Temp\\ipykernel_30528\\2982048536.py:6: SettingWithCopyWarning: \n",
      "A value is trying to be set on a copy of a slice from a DataFrame.\n",
      "Try using .loc[row_indexer,col_indexer] = value instead\n",
      "\n",
      "See the caveats in the documentation: https://pandas.pydata.org/pandas-docs/stable/user_guide/indexing.html#returning-a-view-versus-a-copy\n",
      "  df_sample['processed_date'] = df_sample['date'].astype(str).apply(preprocess_text)\n"
     ]
    },
    {
     "data": {
      "text/html": [
       "<div>\n",
       "<style scoped>\n",
       "    .dataframe tbody tr th:only-of-type {\n",
       "        vertical-align: middle;\n",
       "    }\n",
       "\n",
       "    .dataframe tbody tr th {\n",
       "        vertical-align: top;\n",
       "    }\n",
       "\n",
       "    .dataframe thead th {\n",
       "        text-align: right;\n",
       "    }\n",
       "</style>\n",
       "<table border=\"1\" class=\"dataframe\">\n",
       "  <thead>\n",
       "    <tr style=\"text-align: right;\">\n",
       "      <th></th>\n",
       "      <th>processed_title</th>\n",
       "      <th>processed_text</th>\n",
       "      <th>processed_subject</th>\n",
       "      <th>processed_date</th>\n",
       "      <th>label</th>\n",
       "    </tr>\n",
       "  </thead>\n",
       "  <tbody>\n",
       "    <tr>\n",
       "      <th>0</th>\n",
       "      <td>trump may kill vile conservative antiwoman cru...</td>\n",
       "      <td>support donald trump senile move farback conse...</td>\n",
       "      <td>news</td>\n",
       "      <td>april</td>\n",
       "      <td>fake</td>\n",
       "    </tr>\n",
       "    <tr>\n",
       "      <th>1</th>\n",
       "      <td>we directly communicate north korea seek dialogue</td>\n",
       "      <td>beijing reuters united states say saturday dir...</td>\n",
       "      <td>worldnew</td>\n",
       "      <td>september</td>\n",
       "      <td>real</td>\n",
       "    </tr>\n",
       "    <tr>\n",
       "      <th>2</th>\n",
       "      <td>fume trump call colorado loss big story politi...</td>\n",
       "      <td>republican frontrunner donald trump lose grace...</td>\n",
       "      <td>news</td>\n",
       "      <td>april</td>\n",
       "      <td>fake</td>\n",
       "    </tr>\n",
       "    <tr>\n",
       "      <th>3</th>\n",
       "      <td>us sanction north koreans flagrant right abuse</td>\n",
       "      <td>washington reuters united states thursday impo...</td>\n",
       "      <td>worldnew</td>\n",
       "      <td>october</td>\n",
       "      <td>real</td>\n",
       "    </tr>\n",
       "    <tr>\n",
       "      <th>4</th>\n",
       "      <td>federer survive tiafoe scare advance</td>\n",
       "      <td>new york reuters world number three roger fede...</td>\n",
       "      <td>politicsnew</td>\n",
       "      <td>august</td>\n",
       "      <td>real</td>\n",
       "    </tr>\n",
       "  </tbody>\n",
       "</table>\n",
       "</div>"
      ],
      "text/plain": [
       "                                     processed_title  \\\n",
       "0  trump may kill vile conservative antiwoman cru...   \n",
       "1  we directly communicate north korea seek dialogue   \n",
       "2  fume trump call colorado loss big story politi...   \n",
       "3     us sanction north koreans flagrant right abuse   \n",
       "4               federer survive tiafoe scare advance   \n",
       "\n",
       "                                      processed_text processed_subject  \\\n",
       "0  support donald trump senile move farback conse...              news   \n",
       "1  beijing reuters united states say saturday dir...          worldnew   \n",
       "2  republican frontrunner donald trump lose grace...              news   \n",
       "3  washington reuters united states thursday impo...          worldnew   \n",
       "4  new york reuters world number three roger fede...       politicsnew   \n",
       "\n",
       "  processed_date label  \n",
       "0          april  fake  \n",
       "1      september  real  \n",
       "2          april  fake  \n",
       "3        october  real  \n",
       "4         august  real  "
      ]
     },
     "execution_count": 10,
     "metadata": {},
     "output_type": "execute_result"
    }
   ],
   "source": [
    "df_sample = df.head(2000)\n",
    "\n",
    "df_sample['processed_title'] = df_sample['title'].apply(preprocess_text)\n",
    "df_sample['processed_text'] = df_sample['text'].apply(preprocess_text)\n",
    "df_sample['processed_subject'] = df_sample['subject'].apply(preprocess_text)\n",
    "df_sample['processed_date'] = df_sample['date'].astype(str).apply(preprocess_text)\n",
    "\n",
    "processed_sample_df = df_sample[['processed_title', 'processed_text', 'processed_subject', 'processed_date', 'label']]\n",
    "\n",
    "processed_sample_df.head()"
   ]
  },
  {
   "cell_type": "code",
   "execution_count": 11,
   "id": "6ab253df",
   "metadata": {},
   "outputs": [
    {
     "name": "stderr",
     "output_type": "stream",
     "text": [
      "C:\\Users\\HP\\AppData\\Local\\Temp\\ipykernel_30528\\339991528.py:4: SettingWithCopyWarning: \n",
      "A value is trying to be set on a copy of a slice from a DataFrame.\n",
      "Try using .loc[row_indexer,col_indexer] = value instead\n",
      "\n",
      "See the caveats in the documentation: https://pandas.pydata.org/pandas-docs/stable/user_guide/indexing.html#returning-a-view-versus-a-copy\n",
      "  processed_sample_df['tokens_title'] = processed_sample_df['processed_title'].apply(word_tokenize)\n",
      "C:\\Users\\HP\\AppData\\Local\\Temp\\ipykernel_30528\\339991528.py:5: SettingWithCopyWarning: \n",
      "A value is trying to be set on a copy of a slice from a DataFrame.\n",
      "Try using .loc[row_indexer,col_indexer] = value instead\n",
      "\n",
      "See the caveats in the documentation: https://pandas.pydata.org/pandas-docs/stable/user_guide/indexing.html#returning-a-view-versus-a-copy\n",
      "  processed_sample_df['tokens_text'] = processed_sample_df['processed_text'].apply(word_tokenize)\n",
      "C:\\Users\\HP\\AppData\\Local\\Temp\\ipykernel_30528\\339991528.py:6: SettingWithCopyWarning: \n",
      "A value is trying to be set on a copy of a slice from a DataFrame.\n",
      "Try using .loc[row_indexer,col_indexer] = value instead\n",
      "\n",
      "See the caveats in the documentation: https://pandas.pydata.org/pandas-docs/stable/user_guide/indexing.html#returning-a-view-versus-a-copy\n",
      "  processed_sample_df['tokens_subject'] = processed_sample_df['processed_subject'].apply(word_tokenize)\n"
     ]
    },
    {
     "data": {
      "text/html": [
       "<div>\n",
       "<style scoped>\n",
       "    .dataframe tbody tr th:only-of-type {\n",
       "        vertical-align: middle;\n",
       "    }\n",
       "\n",
       "    .dataframe tbody tr th {\n",
       "        vertical-align: top;\n",
       "    }\n",
       "\n",
       "    .dataframe thead th {\n",
       "        text-align: right;\n",
       "    }\n",
       "</style>\n",
       "<table border=\"1\" class=\"dataframe\">\n",
       "  <thead>\n",
       "    <tr style=\"text-align: right;\">\n",
       "      <th></th>\n",
       "      <th>tokens_title</th>\n",
       "      <th>tokens_text</th>\n",
       "      <th>tokens_subject</th>\n",
       "      <th>tokens_date</th>\n",
       "      <th>label</th>\n",
       "    </tr>\n",
       "  </thead>\n",
       "  <tbody>\n",
       "    <tr>\n",
       "      <th>0</th>\n",
       "      <td>[trump, may, kill, vile, conservative, antiwom...</td>\n",
       "      <td>[support, donald, trump, senile, move, farback...</td>\n",
       "      <td>[news]</td>\n",
       "      <td>[april]</td>\n",
       "      <td>fake</td>\n",
       "    </tr>\n",
       "    <tr>\n",
       "      <th>1</th>\n",
       "      <td>[we, directly, communicate, north, korea, seek...</td>\n",
       "      <td>[beijing, reuters, united, states, say, saturd...</td>\n",
       "      <td>[worldnew]</td>\n",
       "      <td>[september]</td>\n",
       "      <td>real</td>\n",
       "    </tr>\n",
       "    <tr>\n",
       "      <th>2</th>\n",
       "      <td>[fume, trump, call, colorado, loss, big, story...</td>\n",
       "      <td>[republican, frontrunner, donald, trump, lose,...</td>\n",
       "      <td>[news]</td>\n",
       "      <td>[april]</td>\n",
       "      <td>fake</td>\n",
       "    </tr>\n",
       "    <tr>\n",
       "      <th>3</th>\n",
       "      <td>[us, sanction, north, koreans, flagrant, right...</td>\n",
       "      <td>[washington, reuters, united, states, thursday...</td>\n",
       "      <td>[worldnew]</td>\n",
       "      <td>[october]</td>\n",
       "      <td>real</td>\n",
       "    </tr>\n",
       "    <tr>\n",
       "      <th>4</th>\n",
       "      <td>[federer, survive, tiafoe, scare, advance]</td>\n",
       "      <td>[new, york, reuters, world, number, three, rog...</td>\n",
       "      <td>[politicsnew]</td>\n",
       "      <td>[august]</td>\n",
       "      <td>real</td>\n",
       "    </tr>\n",
       "  </tbody>\n",
       "</table>\n",
       "</div>"
      ],
      "text/plain": [
       "                                        tokens_title  \\\n",
       "0  [trump, may, kill, vile, conservative, antiwom...   \n",
       "1  [we, directly, communicate, north, korea, seek...   \n",
       "2  [fume, trump, call, colorado, loss, big, story...   \n",
       "3  [us, sanction, north, koreans, flagrant, right...   \n",
       "4         [federer, survive, tiafoe, scare, advance]   \n",
       "\n",
       "                                         tokens_text tokens_subject  \\\n",
       "0  [support, donald, trump, senile, move, farback...         [news]   \n",
       "1  [beijing, reuters, united, states, say, saturd...     [worldnew]   \n",
       "2  [republican, frontrunner, donald, trump, lose,...         [news]   \n",
       "3  [washington, reuters, united, states, thursday...     [worldnew]   \n",
       "4  [new, york, reuters, world, number, three, rog...  [politicsnew]   \n",
       "\n",
       "   tokens_date label  \n",
       "0      [april]  fake  \n",
       "1  [september]  real  \n",
       "2      [april]  fake  \n",
       "3    [october]  real  \n",
       "4     [august]  real  "
      ]
     },
     "execution_count": 11,
     "metadata": {},
     "output_type": "execute_result"
    }
   ],
   "source": [
    "from nltk.tokenize import word_tokenize\n",
    "\n",
    "# Tokenize processed columns in the sample dataframe\n",
    "processed_sample_df['tokens_title'] = processed_sample_df['processed_title'].apply(word_tokenize)\n",
    "processed_sample_df['tokens_text'] = processed_sample_df['processed_text'].apply(word_tokenize)\n",
    "processed_sample_df['tokens_subject'] = processed_sample_df['processed_subject'].apply(word_tokenize)\n",
    "processed_sample_df['tokens_date'] = processed_sample_df['processed_date'].apply(word_tokenize)\n",
    "\n",
    "# Display tokenized sample\n",
    "processed_sample_df[['tokens_title', 'tokens_text', 'tokens_subject', 'tokens_date', 'label']].head()"
   ]
  },
  {
   "cell_type": "code",
   "execution_count": 12,
   "id": "707611dd",
   "metadata": {},
   "outputs": [
    {
     "name": "stdout",
     "output_type": "stream",
     "text": [
      "Test Accuracy: 0.9650\n"
     ]
    }
   ],
   "source": [
    "import pickle\n",
    "\n",
    "# Join tokens back to string for vectorization\n",
    "processed_sample_df['text_for_vectorizer'] = processed_sample_df['tokens_text'].apply(lambda tokens: ' '.join(tokens))\n",
    "\n",
    "# Vectorize the text\n",
    "vectorizer = TfidfVectorizer()\n",
    "X = vectorizer.fit_transform(processed_sample_df['text_for_vectorizer'])\n",
    "y = processed_sample_df['label'].map({'fake': 0, 'real': 1})  # Encode labels\n",
    "\n",
    "# Train/test split\n",
    "X_train, X_test, y_train, y_test = train_test_split(X, y, test_size=0.2, random_state=42)\n",
    "\n",
    "# Train Logistic Regression model\n",
    "model = LogisticRegression(class_weight='balanced',max_iter=1000)\n",
    "model.fit(X_train, y_train)\n",
    "\n",
    "# Save vectorizer and model to disk\n",
    "with open('../model/vectorizer.pkl', 'wb') as f:\n",
    "    pickle.dump(vectorizer, f)\n",
    "\n",
    "with open('../model/model.pkl', 'wb') as f:\n",
    "    pickle.dump(model, f)\n",
    "\n",
    "# Evaluate model\n",
    "score = model.score(X_test, y_test)\n",
    "print(f\"Test Accuracy: {score:.4f}\")"
   ]
  },
  {
   "cell_type": "code",
   "execution_count": 13,
   "id": "eadfe1eb",
   "metadata": {},
   "outputs": [
    {
     "name": "stdout",
     "output_type": "stream",
     "text": [
      "MSE: 0.0350\n",
      "R2 Score: 0.8598\n",
      "F1 Score: 0.9663\n"
     ]
    }
   ],
   "source": [
    "from sklearn.metrics import mean_squared_error, r2_score, f1_score\n",
    "\n",
    "# Predict on test set\n",
    "y_pred = model.predict(X_test)\n",
    "\n",
    "# MSE\n",
    "mse = mean_squared_error(y_test, y_pred)\n",
    "print(f\"MSE: {mse:.4f}\")\n",
    "\n",
    "# R2 Score\n",
    "r2 = r2_score(y_test, y_pred)\n",
    "print(f\"R2 Score: {r2:.4f}\")\n",
    "\n",
    "# F1 Score\n",
    "f1 = f1_score(y_test, y_pred)\n",
    "print(f\"F1 Score: {f1:.4f}\")"
   ]
  },
  {
   "cell_type": "code",
   "execution_count": 14,
   "id": "f76971be",
   "metadata": {},
   "outputs": [
    {
     "data": {
      "image/png": "[encoded data removed]",
      "text/plain": [
       "<Figure size 600x400 with 2 Axes>"
      ]
     },
     "metadata": {},
     "output_type": "display_data"
    }
   ],
   "source": [
    "import seaborn as sns\n",
    "\n",
    "# Generate and display the confusion matrix\n",
    "import matplotlib.pyplot as plt\n",
    "\n",
    "cm = confusion_matrix(y_test, y_pred)\n",
    "plt.figure(figsize=(6, 4))\n",
    "sns.heatmap(cm, annot=True, fmt='d', cmap='Blues', xticklabels=['Fake', 'Real'], yticklabels=['Fake', 'Real'])\n",
    "plt.xlabel('Predicted')\n",
    "plt.ylabel('Actual')\n",
    "plt.title('Confusion Matrix')\n",
    "plt.show()"
   ]
  },
  {
   "cell_type": "code",
   "execution_count": null,
   "id": "cb33effa",
   "metadata": {},
   "outputs": [],
   "source": []
  }
 ],
 "metadata": {
  "kernelspec": {
   "display_name": ".venv",
   "language": "python",
   "name": "python3"
  },
  "language_info": {
   "codemirror_mode": {
    "name": "ipython",
    "version": 3
   },
   "file_extension": ".py",
   "mimetype": "text/x-python",
   "name": "python",
   "nbconvert_exporter": "python",
   "pygments_lexer": "ipython3",
   "version": "3.13.1"
  }
 },
 "nbformat": 4,
 "nbformat_minor": 5
}
