{
 "cells": [
  {
   "cell_type": "code",
   "execution_count": 2,
   "id": "04c4458f",
   "metadata": {},
   "outputs": [],
   "source": [
    "import pandas as pd\n",
    "import nltk\n",
    "from sklearn.model_selection import train_test_split\n",
    "from sklearn.feature_extraction.text import TfidfVectorizer\n",
    "from sklearn.linear_model import LogisticRegression\n",
    "from sklearn.metrics import accuracy_score, classification_report, confusion_matrix\n"
   ]
  },
  {
   "cell_type": "code",
   "execution_count": 3,
   "id": "3ee02c10",
   "metadata": {},
   "outputs": [
    {
     "name": "stderr",
     "output_type": "stream",
     "text": [
      "[nltk_data] Downloading package punkt to /home/nasar/nltk_data...\n",
      "[nltk_data]   Package punkt is already up-to-date!\n",
      "[nltk_data] Downloading package stopwords to /home/nasar/nltk_data...\n",
      "[nltk_data]   Package stopwords is already up-to-date!\n"
     ]
    },
    {
     "data": {
      "text/plain": [
       "True"
      ]
     },
     "execution_count": 3,
     "metadata": {},
     "output_type": "execute_result"
    }
   ],
   "source": [
    "nltk.download('punkt')\n",
    "nltk.download('stopwords')"
   ]
  },
  {
   "cell_type": "code",
   "execution_count": 4,
   "id": "451f19c7",
   "metadata": {},
   "outputs": [],
   "source": [
    "fake=pd.read_csv('./data/Fake.csv')\n",
    "real=pd.read_csv('./data/True.csv')"
   ]
  },
  {
   "cell_type": "code",
   "execution_count": 5,
   "id": "6050d013",
   "metadata": {},
   "outputs": [],
   "source": [
    "fake['label']='fake'\n",
    "real['label']='real'\n",
    "\n",
    "df = pd.concat([fake, real]).sample(frac=1).reset_index(drop=True)"
   ]
  },
  {
   "cell_type": "code",
   "execution_count": 10,
   "id": "fb080078",
   "metadata": {},
   "outputs": [
    {
     "name": "stdout",
     "output_type": "stream",
     "text": [
      "<class 'pandas.core.frame.DataFrame'>\n",
      "RangeIndex: 44898 entries, 0 to 44897\n",
      "Data columns (total 5 columns):\n",
      " #   Column   Non-Null Count  Dtype \n",
      "---  ------   --------------  ----- \n",
      " 0   title    44898 non-null  object\n",
      " 1   text     44898 non-null  object\n",
      " 2   subject  44898 non-null  object\n",
      " 3   date     44898 non-null  object\n",
      " 4   label    44898 non-null  object\n",
      "dtypes: object(5)\n",
      "memory usage: 1.7+ MB\n"
     ]
    }
   ],
   "source": [
    "df.info()"
   ]
  },
  {
   "cell_type": "code",
   "execution_count": 7,
   "id": "68ce11b0",
   "metadata": {},
   "outputs": [],
   "source": [
    "import re\n",
    "import spacy\n",
    "from nltk.corpus import stopwords\n",
    "import string"
   ]
  },
  {
   "cell_type": "code",
   "execution_count": 8,
   "id": "af98d603",
   "metadata": {},
   "outputs": [],
   "source": [
    "# Load spacy model\n",
    "nlp = spacy.load('en_core_web_sm')\n",
    "\n",
    "def preprocess_text(text):\n",
    "    # Lowercase\n",
    "    text = text.lower()\n",
    "    # Remove URLs\n",
    "    text = re.sub(r'http\\S+|www\\S+', '', text)\n",
    "    # Remove HTML tags\n",
    "    text = re.sub(r'<.*?>', '', text)\n",
    "    # Remove punctuation\n",
    "    text = text.translate(str.maketrans('', '', string.punctuation))\n",
    "    # Remove non-alphabetic characters (keep spaces)\n",
    "    text = re.sub(r'[^a-zA-Z ]', '', text)\n",
    "    # Remove extra spaces\n",
    "    text = re.sub(r'\\s+', ' ', text).strip()\n",
    "    # Remove stopwords using nltk\n",
    "    stop_words = set(stopwords.words('english'))\n",
    "    text = ' '.join([word for word in text.split() if word not in stop_words])\n",
    "    # Lemmatization using spacy\n",
    "    doc = nlp(text)\n",
    "    text = ' '.join([token.lemma_ for token in doc])\n",
    "    return text\n"
   ]
  },
  {
   "cell_type": "code",
   "execution_count": null,
   "id": "3306f01b",
   "metadata": {},
   "outputs": [
    {
     "name": "stderr",
     "output_type": "stream",
     "text": [
      "/tmp/ipykernel_22056/2232442872.py:4: SettingWithCopyWarning: \n",
      "A value is trying to be set on a copy of a slice from a DataFrame.\n",
      "Try using .loc[row_indexer,col_indexer] = value instead\n",
      "\n",
      "See the caveats in the documentation: https://pandas.pydata.org/pandas-docs/stable/user_guide/indexing.html#returning-a-view-versus-a-copy\n",
      "  df_sample['processed_title'] = df_sample['title'].apply(preprocess_text)\n",
      "/tmp/ipykernel_22056/2232442872.py:5: SettingWithCopyWarning: \n",
      "A value is trying to be set on a copy of a slice from a DataFrame.\n",
      "Try using .loc[row_indexer,col_indexer] = value instead\n",
      "\n",
      "See the caveats in the documentation: https://pandas.pydata.org/pandas-docs/stable/user_guide/indexing.html#returning-a-view-versus-a-copy\n",
      "  df_sample['processed_text'] = df_sample['text'].apply(preprocess_text)\n",
      "/tmp/ipykernel_22056/2232442872.py:5: SettingWithCopyWarning: \n",
      "A value is trying to be set on a copy of a slice from a DataFrame.\n",
      "Try using .loc[row_indexer,col_indexer] = value instead\n",
      "\n",
      "See the caveats in the documentation: https://pandas.pydata.org/pandas-docs/stable/user_guide/indexing.html#returning-a-view-versus-a-copy\n",
      "  df_sample['processed_text'] = df_sample['text'].apply(preprocess_text)\n",
      "/tmp/ipykernel_22056/2232442872.py:6: SettingWithCopyWarning: \n",
      "A value is trying to be set on a copy of a slice from a DataFrame.\n",
      "Try using .loc[row_indexer,col_indexer] = value instead\n",
      "\n",
      "See the caveats in the documentation: https://pandas.pydata.org/pandas-docs/stable/user_guide/indexing.html#returning-a-view-versus-a-copy\n",
      "  df_sample['processed_subject'] = df_sample['subject'].apply(preprocess_text)\n",
      "/tmp/ipykernel_22056/2232442872.py:6: SettingWithCopyWarning: \n",
      "A value is trying to be set on a copy of a slice from a DataFrame.\n",
      "Try using .loc[row_indexer,col_indexer] = value instead\n",
      "\n",
      "See the caveats in the documentation: https://pandas.pydata.org/pandas-docs/stable/user_guide/indexing.html#returning-a-view-versus-a-copy\n",
      "  df_sample['processed_subject'] = df_sample['subject'].apply(preprocess_text)\n",
      "/tmp/ipykernel_22056/2232442872.py:7: SettingWithCopyWarning: \n",
      "A value is trying to be set on a copy of a slice from a DataFrame.\n",
      "Try using .loc[row_indexer,col_indexer] = value instead\n",
      "\n",
      "See the caveats in the documentation: https://pandas.pydata.org/pandas-docs/stable/user_guide/indexing.html#returning-a-view-versus-a-copy\n",
      "  df_sample['processed_date'] = df_sample['date'].astype(str).apply(preprocess_text)\n",
      "/tmp/ipykernel_22056/2232442872.py:7: SettingWithCopyWarning: \n",
      "A value is trying to be set on a copy of a slice from a DataFrame.\n",
      "Try using .loc[row_indexer,col_indexer] = value instead\n",
      "\n",
      "See the caveats in the documentation: https://pandas.pydata.org/pandas-docs/stable/user_guide/indexing.html#returning-a-view-versus-a-copy\n",
      "  df_sample['processed_date'] = df_sample['date'].astype(str).apply(preprocess_text)\n"
     ]
    },
    {
     "data": {
      "text/html": [
       "<div>\n",
       "<style scoped>\n",
       "    .dataframe tbody tr th:only-of-type {\n",
       "        vertical-align: middle;\n",
       "    }\n",
       "\n",
       "    .dataframe tbody tr th {\n",
       "        vertical-align: top;\n",
       "    }\n",
       "\n",
       "    .dataframe thead th {\n",
       "        text-align: right;\n",
       "    }\n",
       "</style>\n",
       "<table border=\"1\" class=\"dataframe\">\n",
       "  <thead>\n",
       "    <tr style=\"text-align: right;\">\n",
       "      <th></th>\n",
       "      <th>processed_title</th>\n",
       "      <th>processed_text</th>\n",
       "      <th>processed_subject</th>\n",
       "      <th>processed_date</th>\n",
       "      <th>label</th>\n",
       "    </tr>\n",
       "  </thead>\n",
       "  <tbody>\n",
       "    <tr>\n",
       "      <th>0</th>\n",
       "      <td>trump say thought fire russia probe special co...</td>\n",
       "      <td>bedminster nj reuter us president donald trump...</td>\n",
       "      <td>politicsnew</td>\n",
       "      <td>august</td>\n",
       "      <td>real</td>\n",
       "    </tr>\n",
       "    <tr>\n",
       "      <th>1</th>\n",
       "      <td>nra board member ted nugent encourage violent ...</td>\n",
       "      <td>stochastic terrorism term mean use mass commun...</td>\n",
       "      <td>news</td>\n",
       "      <td>may</td>\n",
       "      <td>fake</td>\n",
       "    </tr>\n",
       "    <tr>\n",
       "      <th>2</th>\n",
       "      <td>michigan militia group turn rightwe governor r...</td>\n",
       "      <td>general rule militia group side liberal anythi...</td>\n",
       "      <td>news</td>\n",
       "      <td>january</td>\n",
       "      <td>fake</td>\n",
       "    </tr>\n",
       "    <tr>\n",
       "      <th>3</th>\n",
       "      <td>iranian fear economic hardship united trump</td>\n",
       "      <td>ankara reuter us president donald trump harden...</td>\n",
       "      <td>worldnew</td>\n",
       "      <td>october</td>\n",
       "      <td>real</td>\n",
       "    </tr>\n",
       "    <tr>\n",
       "      <th>4</th>\n",
       "      <td>emotional trump endorsement former fbi asst di...</td>\n",
       "      <td>former fbi asst director james kallstrom endor...</td>\n",
       "      <td>government news</td>\n",
       "      <td>oct</td>\n",
       "      <td>fake</td>\n",
       "    </tr>\n",
       "  </tbody>\n",
       "</table>\n",
       "</div>"
      ],
      "text/plain": [
       "                                     processed_title  \\\n",
       "0  trump say thought fire russia probe special co...   \n",
       "1  nra board member ted nugent encourage violent ...   \n",
       "2  michigan militia group turn rightwe governor r...   \n",
       "3        iranian fear economic hardship united trump   \n",
       "4  emotional trump endorsement former fbi asst di...   \n",
       "\n",
       "                                      processed_text processed_subject  \\\n",
       "0  bedminster nj reuter us president donald trump...       politicsnew   \n",
       "1  stochastic terrorism term mean use mass commun...              news   \n",
       "2  general rule militia group side liberal anythi...              news   \n",
       "3  ankara reuter us president donald trump harden...          worldnew   \n",
       "4  former fbi asst director james kallstrom endor...   government news   \n",
       "\n",
       "  processed_date label  \n",
       "0         august  real  \n",
       "1            may  fake  \n",
       "2        january  fake  \n",
       "3        october  real  \n",
       "4            oct  fake  "
      ]
     },
     "execution_count": 9,
     "metadata": {},
     "output_type": "execute_result"
    }
   ],
   "source": [
    "df_sample = df.head(2000)\n",
    "\n",
    "df_sample['processed_title'] = df_sample['title'].apply(preprocess_text)\n",
    "df_sample['processed_text'] = df_sample['text'].apply(preprocess_text)\n",
    "df_sample['processed_subject'] = df_sample['subject'].apply(preprocess_text)\n",
    "df_sample['processed_date'] = df_sample['date'].astype(str).apply(preprocess_text)\n",
    "\n",
    "processed_sample_df = df_sample[['processed_title', 'processed_text', 'processed_subject', 'processed_date', 'label']]\n",
    "\n",
    "processed_sample_df.head()"
   ]
  },
  {
   "cell_type": "code",
   "execution_count": 12,
   "id": "6ab253df",
   "metadata": {},
   "outputs": [
    {
     "name": "stderr",
     "output_type": "stream",
     "text": [
      "/tmp/ipykernel_22056/339991528.py:4: SettingWithCopyWarning: \n",
      "A value is trying to be set on a copy of a slice from a DataFrame.\n",
      "Try using .loc[row_indexer,col_indexer] = value instead\n",
      "\n",
      "See the caveats in the documentation: https://pandas.pydata.org/pandas-docs/stable/user_guide/indexing.html#returning-a-view-versus-a-copy\n",
      "  processed_sample_df['tokens_title'] = processed_sample_df['processed_title'].apply(word_tokenize)\n",
      "/tmp/ipykernel_22056/339991528.py:5: SettingWithCopyWarning: \n",
      "A value is trying to be set on a copy of a slice from a DataFrame.\n",
      "Try using .loc[row_indexer,col_indexer] = value instead\n",
      "\n",
      "See the caveats in the documentation: https://pandas.pydata.org/pandas-docs/stable/user_guide/indexing.html#returning-a-view-versus-a-copy\n",
      "  processed_sample_df['tokens_text'] = processed_sample_df['processed_text'].apply(word_tokenize)\n",
      "/tmp/ipykernel_22056/339991528.py:6: SettingWithCopyWarning: \n",
      "A value is trying to be set on a copy of a slice from a DataFrame.\n",
      "Try using .loc[row_indexer,col_indexer] = value instead\n",
      "\n",
      "See the caveats in the documentation: https://pandas.pydata.org/pandas-docs/stable/user_guide/indexing.html#returning-a-view-versus-a-copy\n",
      "  processed_sample_df['tokens_subject'] = processed_sample_df['processed_subject'].apply(word_tokenize)\n",
      "/tmp/ipykernel_22056/339991528.py:5: SettingWithCopyWarning: \n",
      "A value is trying to be set on a copy of a slice from a DataFrame.\n",
      "Try using .loc[row_indexer,col_indexer] = value instead\n",
      "\n",
      "See the caveats in the documentation: https://pandas.pydata.org/pandas-docs/stable/user_guide/indexing.html#returning-a-view-versus-a-copy\n",
      "  processed_sample_df['tokens_text'] = processed_sample_df['processed_text'].apply(word_tokenize)\n",
      "/tmp/ipykernel_22056/339991528.py:6: SettingWithCopyWarning: \n",
      "A value is trying to be set on a copy of a slice from a DataFrame.\n",
      "Try using .loc[row_indexer,col_indexer] = value instead\n",
      "\n",
      "See the caveats in the documentation: https://pandas.pydata.org/pandas-docs/stable/user_guide/indexing.html#returning-a-view-versus-a-copy\n",
      "  processed_sample_df['tokens_subject'] = processed_sample_df['processed_subject'].apply(word_tokenize)\n"
     ]
    },
    {
     "data": {
      "text/html": [
       "<div>\n",
       "<style scoped>\n",
       "    .dataframe tbody tr th:only-of-type {\n",
       "        vertical-align: middle;\n",
       "    }\n",
       "\n",
       "    .dataframe tbody tr th {\n",
       "        vertical-align: top;\n",
       "    }\n",
       "\n",
       "    .dataframe thead th {\n",
       "        text-align: right;\n",
       "    }\n",
       "</style>\n",
       "<table border=\"1\" class=\"dataframe\">\n",
       "  <thead>\n",
       "    <tr style=\"text-align: right;\">\n",
       "      <th></th>\n",
       "      <th>tokens_title</th>\n",
       "      <th>tokens_text</th>\n",
       "      <th>tokens_subject</th>\n",
       "      <th>tokens_date</th>\n",
       "      <th>label</th>\n",
       "    </tr>\n",
       "  </thead>\n",
       "  <tbody>\n",
       "    <tr>\n",
       "      <th>0</th>\n",
       "      <td>[trump, say, thought, fire, russia, probe, spe...</td>\n",
       "      <td>[bedminster, nj, reuter, us, president, donald...</td>\n",
       "      <td>[politicsnew]</td>\n",
       "      <td>[august]</td>\n",
       "      <td>real</td>\n",
       "    </tr>\n",
       "    <tr>\n",
       "      <th>1</th>\n",
       "      <td>[nra, board, member, ted, nugent, encourage, v...</td>\n",
       "      <td>[stochastic, terrorism, term, mean, use, mass,...</td>\n",
       "      <td>[news]</td>\n",
       "      <td>[may]</td>\n",
       "      <td>fake</td>\n",
       "    </tr>\n",
       "    <tr>\n",
       "      <th>2</th>\n",
       "      <td>[michigan, militia, group, turn, rightwe, gove...</td>\n",
       "      <td>[general, rule, militia, group, side, liberal,...</td>\n",
       "      <td>[news]</td>\n",
       "      <td>[january]</td>\n",
       "      <td>fake</td>\n",
       "    </tr>\n",
       "    <tr>\n",
       "      <th>3</th>\n",
       "      <td>[iranian, fear, economic, hardship, united, tr...</td>\n",
       "      <td>[ankara, reuter, us, president, donald, trump,...</td>\n",
       "      <td>[worldnew]</td>\n",
       "      <td>[october]</td>\n",
       "      <td>real</td>\n",
       "    </tr>\n",
       "    <tr>\n",
       "      <th>4</th>\n",
       "      <td>[emotional, trump, endorsement, former, fbi, a...</td>\n",
       "      <td>[former, fbi, asst, director, james, kallstrom...</td>\n",
       "      <td>[government, news]</td>\n",
       "      <td>[oct]</td>\n",
       "      <td>fake</td>\n",
       "    </tr>\n",
       "  </tbody>\n",
       "</table>\n",
       "</div>"
      ],
      "text/plain": [
       "                                        tokens_title  \\\n",
       "0  [trump, say, thought, fire, russia, probe, spe...   \n",
       "1  [nra, board, member, ted, nugent, encourage, v...   \n",
       "2  [michigan, militia, group, turn, rightwe, gove...   \n",
       "3  [iranian, fear, economic, hardship, united, tr...   \n",
       "4  [emotional, trump, endorsement, former, fbi, a...   \n",
       "\n",
       "                                         tokens_text      tokens_subject  \\\n",
       "0  [bedminster, nj, reuter, us, president, donald...       [politicsnew]   \n",
       "1  [stochastic, terrorism, term, mean, use, mass,...              [news]   \n",
       "2  [general, rule, militia, group, side, liberal,...              [news]   \n",
       "3  [ankara, reuter, us, president, donald, trump,...          [worldnew]   \n",
       "4  [former, fbi, asst, director, james, kallstrom...  [government, news]   \n",
       "\n",
       "  tokens_date label  \n",
       "0    [august]  real  \n",
       "1       [may]  fake  \n",
       "2   [january]  fake  \n",
       "3   [october]  real  \n",
       "4       [oct]  fake  "
      ]
     },
     "execution_count": 12,
     "metadata": {},
     "output_type": "execute_result"
    }
   ],
   "source": [
    "from nltk.tokenize import word_tokenize\n",
    "\n",
    "# Tokenize processed columns in the sample dataframe\n",
    "processed_sample_df['tokens_title'] = processed_sample_df['processed_title'].apply(word_tokenize)\n",
    "processed_sample_df['tokens_text'] = processed_sample_df['processed_text'].apply(word_tokenize)\n",
    "processed_sample_df['tokens_subject'] = processed_sample_df['processed_subject'].apply(word_tokenize)\n",
    "processed_sample_df['tokens_date'] = processed_sample_df['processed_date'].apply(word_tokenize)\n",
    "\n",
    "# Display tokenized sample\n",
    "processed_sample_df[['tokens_title', 'tokens_text', 'tokens_subject', 'tokens_date', 'label']].head()"
   ]
  },
  {
   "cell_type": "code",
   "execution_count": null,
   "id": "9cb30f79",
   "metadata": {},
   "outputs": [],
   "source": []
  },
  {
   "cell_type": "code",
   "execution_count": 17,
   "id": "707611dd",
   "metadata": {},
   "outputs": [
    {
     "name": "stdout",
     "output_type": "stream",
     "text": [
      "Test Accuracy: 0.9575\n"
     ]
    }
   ],
   "source": [
    "import pickle\n",
    "\n",
    "# Join tokens back to string for vectorization\n",
    "processed_sample_df['text_for_vectorizer'] = processed_sample_df['tokens_text'].apply(lambda tokens: ' '.join(tokens))\n",
    "\n",
    "# Vectorize the text\n",
    "vectorizer = TfidfVectorizer()\n",
    "X = vectorizer.fit_transform(processed_sample_df['text_for_vectorizer'])\n",
    "y = processed_sample_df['label'].map({'fake': 0, 'real': 1})  # Encode labels\n",
    "\n",
    "# Train/test split\n",
    "X_train, X_test, y_train, y_test = train_test_split(X, y, test_size=0.2, random_state=42)\n",
    "\n",
    "# Train Logistic Regression model\n",
    "model = LogisticRegression(class_weight='balanced',max_iter=1000)\n",
    "model.fit(X_train, y_train)\n",
    "\n",
    "# Save vectorizer and model to disk\n",
    "with open('vectorizer.pkl', 'wb') as f:\n",
    "    pickle.dump(vectorizer, f)\n",
    "\n",
    "with open('model.pkl', 'wb') as f:\n",
    "    pickle.dump(model, f)\n",
    "\n",
    "# Evaluate model\n",
    "score = model.score(X_test, y_test)\n",
    "print(f\"Test Accuracy: {score:.4f}\")"
   ]
  },
  {
   "cell_type": "code",
   "execution_count": 21,
   "id": "eadfe1eb",
   "metadata": {},
   "outputs": [
    {
     "name": "stdout",
     "output_type": "stream",
     "text": [
      "MSE: 0.0425\n",
      "R2 Score: 0.8283\n",
      "F1 Score: 0.9534\n"
     ]
    }
   ],
   "source": [
    "from sklearn.metrics import mean_squared_error, r2_score, f1_score\n",
    "\n",
    "# Predict on test set\n",
    "y_pred = model.predict(X_test)\n",
    "\n",
    "# MSE\n",
    "mse = mean_squared_error(y_test, y_pred)\n",
    "print(f\"MSE: {mse:.4f}\")\n",
    "\n",
    "# R2 Score\n",
    "r2 = r2_score(y_test, y_pred)\n",
    "print(f\"R2 Score: {r2:.4f}\")\n",
    "\n",
    "# F1 Score\n",
    "f1 = f1_score(y_test, y_pred)\n",
    "print(f\"F1 Score: {f1:.4f}\")"
   ]
  },
  {
   "cell_type": "code",
   "execution_count": 23,
   "id": "f76971be",
   "metadata": {},
   "outputs": [
    {
     "data": {
      "image/png": "[encoded data removed]",
      "text/plain": [
       "<Figure size 600x400 with 2 Axes>"
      ]
     },
     "metadata": {},
     "output_type": "display_data"
    }
   ],
   "source": [
    "import seaborn as sns\n",
    "\n",
    "# Generate and display the confusion matrix\n",
    "import matplotlib.pyplot as plt\n",
    "\n",
    "cm = confusion_matrix(y_test, y_pred)\n",
    "plt.figure(figsize=(6, 4))\n",
    "sns.heatmap(cm, annot=True, fmt='d', cmap='Blues', xticklabels=['Fake', 'Real'], yticklabels=['Fake', 'Real'])\n",
    "plt.xlabel('Predicted')\n",
    "plt.ylabel('Actual')\n",
    "plt.title('Confusion Matrix')\n",
    "plt.show()"
   ]
  },
  {
   "cell_type": "code",
   "execution_count": null,
   "id": "cb33effa",
   "metadata": {},
   "outputs": [],
   "source": []
  }
 ],
 "metadata": {
  "kernelspec": {
   "display_name": ".venv",
   "language": "python",
   "name": "python3"
  },
  "language_info": {
   "codemirror_mode": {
    "name": "ipython",
    "version": 3
   },
   "file_extension": ".py",
   "mimetype": "text/x-python",
   "name": "python",
   "nbconvert_exporter": "python",
   "pygments_lexer": "ipython3",
   "version": "3.13.1"
  }
 },
 "nbformat": 4,
 "nbformat_minor": 5
}
